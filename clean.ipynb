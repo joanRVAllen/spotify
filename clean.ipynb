{
 "metadata": {
  "language_info": {
   "codemirror_mode": {
    "name": "ipython",
    "version": 3
   },
   "file_extension": ".py",
   "mimetype": "text/x-python",
   "name": "python",
   "nbconvert_exporter": "python",
   "pygments_lexer": "ipython3",
   "version": "3.9.1-final"
  },
  "orig_nbformat": 2,
  "kernelspec": {
   "name": "python3",
   "display_name": "Python 3",
   "language": "python"
  }
 },
 "nbformat": 4,
 "nbformat_minor": 2,
 "cells": [
  {
   "cell_type": "code",
   "execution_count": 1,
   "metadata": {},
   "outputs": [],
   "source": [
    "import pandas as pd"
   ]
  },
  {
   "cell_type": "code",
   "execution_count": 2,
   "metadata": {},
   "outputs": [],
   "source": [
    "data = 'data/data.csv'\n",
    "\n",
    "# other csv files are incomplete, so I will focus on 'data.csv'"
   ]
  },
  {
   "cell_type": "code",
   "execution_count": 93,
   "metadata": {},
   "outputs": [],
   "source": [
    "def wrangle_data(file):\n",
    "    df = pd.read_csv(file)\n",
    "    artist = []\n",
    "    for name in df['artists']:\n",
    "        name = name.replace('\\'', '')\n",
    "        name = name.replace('[', '')\n",
    "        name = name.replace(']', '')\n",
    "        name = name.replace('\\\"', '')\n",
    "        artist.append(name)\n",
    "    df['artists'] = artist\n",
    "    df = df.drop(columns='release_date')\n",
    "    df['url'] = 'https://open.spotify.com/track/' + df['id']\n",
    "    df = df[['id', 'name', 'artists', 'url', 'acousticness', 'danceability', 'duration_ms', 'energy',\n",
    "       'explicit', 'instrumentalness', 'key', 'liveness', 'loudness',\n",
    "       'mode', 'popularity', 'speechiness', 'tempo',\n",
    "       'valence', 'year']]\n",
    "    df = df.drop_duplicates()\n",
    "    return df\n"
   ]
  },
  {
   "cell_type": "code",
   "execution_count": 95,
   "metadata": {},
   "outputs": [
    {
     "output_type": "execute_result",
     "data": {
      "text/plain": [
       "(172230, 19)"
      ]
     },
     "metadata": {},
     "execution_count": 95
    }
   ],
   "source": [
    "test.shape"
   ]
  },
  {
   "cell_type": "code",
   "execution_count": 94,
   "metadata": {},
   "outputs": [
    {
     "output_type": "execute_result",
     "data": {
      "text/plain": [
       "                            id                name       artists  \\\n",
       "174379  45XnLMuqf3vRfskEAMUeCH       A Little More  Alessia Cara   \n",
       "174381  4pPFI9jsguIh3wC7Otoyy8       A Little More  Alessia Cara   \n",
       "174383  52YtxLVUyvtiGPxwwxayHZ       A Little More  Alessia Cara   \n",
       "174385  7tue2Wemjd0FZzRtDrQFZd       A Little More  Alessia Cara   \n",
       "174387  1gcyHQpBQ1lfXGdhZmWrHP  champagne problems  Taylor Swift   \n",
       "\n",
       "                                                      url  acousticness  \\\n",
       "174379  https://open.spotify.com/track/45XnLMuqf3vRfsk...         0.795   \n",
       "174381  https://open.spotify.com/track/4pPFI9jsguIh3wC...         0.795   \n",
       "174383  https://open.spotify.com/track/52YtxLVUyvtiGPx...         0.795   \n",
       "174385  https://open.spotify.com/track/7tue2Wemjd0FZzR...         0.795   \n",
       "174387  https://open.spotify.com/track/1gcyHQpBQ1lfXGd...         0.920   \n",
       "\n",
       "        danceability  duration_ms  energy  explicit  instrumentalness  key  \\\n",
       "174379         0.429       144720   0.211         0               0.0    4   \n",
       "174381         0.429       144720   0.211         0               0.0    4   \n",
       "174383         0.429       144720   0.211         0               0.0    4   \n",
       "174385         0.429       144720   0.211         0               0.0    4   \n",
       "174387         0.462       244000   0.240         1               0.0    0   \n",
       "\n",
       "        liveness  loudness  mode  popularity  speechiness    tempo  valence  \\\n",
       "174379     0.196   -11.665     1           0       0.0360   94.710    0.228   \n",
       "174381     0.196   -11.665     1           0       0.0360   94.710    0.228   \n",
       "174383     0.196   -11.665     1           0       0.0360   94.710    0.228   \n",
       "174385     0.196   -11.665     1           0       0.0360   94.710    0.228   \n",
       "174387     0.113   -12.077     1          69       0.0377  171.319    0.320   \n",
       "\n",
       "        year  \n",
       "174379  2021  \n",
       "174381  2021  \n",
       "174383  2021  \n",
       "174385  2021  \n",
       "174387  2021  "
      ],
      "text/html": "<div>\n<style scoped>\n    .dataframe tbody tr th:only-of-type {\n        vertical-align: middle;\n    }\n\n    .dataframe tbody tr th {\n        vertical-align: top;\n    }\n\n    .dataframe thead th {\n        text-align: right;\n    }\n</style>\n<table border=\"1\" class=\"dataframe\">\n  <thead>\n    <tr style=\"text-align: right;\">\n      <th></th>\n      <th>id</th>\n      <th>name</th>\n      <th>artists</th>\n      <th>url</th>\n      <th>acousticness</th>\n      <th>danceability</th>\n      <th>duration_ms</th>\n      <th>energy</th>\n      <th>explicit</th>\n      <th>instrumentalness</th>\n      <th>key</th>\n      <th>liveness</th>\n      <th>loudness</th>\n      <th>mode</th>\n      <th>popularity</th>\n      <th>speechiness</th>\n      <th>tempo</th>\n      <th>valence</th>\n      <th>year</th>\n    </tr>\n  </thead>\n  <tbody>\n    <tr>\n      <th>174379</th>\n      <td>45XnLMuqf3vRfskEAMUeCH</td>\n      <td>A Little More</td>\n      <td>Alessia Cara</td>\n      <td>https://open.spotify.com/track/45XnLMuqf3vRfsk...</td>\n      <td>0.795</td>\n      <td>0.429</td>\n      <td>144720</td>\n      <td>0.211</td>\n      <td>0</td>\n      <td>0.0</td>\n      <td>4</td>\n      <td>0.196</td>\n      <td>-11.665</td>\n      <td>1</td>\n      <td>0</td>\n      <td>0.0360</td>\n      <td>94.710</td>\n      <td>0.228</td>\n      <td>2021</td>\n    </tr>\n    <tr>\n      <th>174381</th>\n      <td>4pPFI9jsguIh3wC7Otoyy8</td>\n      <td>A Little More</td>\n      <td>Alessia Cara</td>\n      <td>https://open.spotify.com/track/4pPFI9jsguIh3wC...</td>\n      <td>0.795</td>\n      <td>0.429</td>\n      <td>144720</td>\n      <td>0.211</td>\n      <td>0</td>\n      <td>0.0</td>\n      <td>4</td>\n      <td>0.196</td>\n      <td>-11.665</td>\n      <td>1</td>\n      <td>0</td>\n      <td>0.0360</td>\n      <td>94.710</td>\n      <td>0.228</td>\n      <td>2021</td>\n    </tr>\n    <tr>\n      <th>174383</th>\n      <td>52YtxLVUyvtiGPxwwxayHZ</td>\n      <td>A Little More</td>\n      <td>Alessia Cara</td>\n      <td>https://open.spotify.com/track/52YtxLVUyvtiGPx...</td>\n      <td>0.795</td>\n      <td>0.429</td>\n      <td>144720</td>\n      <td>0.211</td>\n      <td>0</td>\n      <td>0.0</td>\n      <td>4</td>\n      <td>0.196</td>\n      <td>-11.665</td>\n      <td>1</td>\n      <td>0</td>\n      <td>0.0360</td>\n      <td>94.710</td>\n      <td>0.228</td>\n      <td>2021</td>\n    </tr>\n    <tr>\n      <th>174385</th>\n      <td>7tue2Wemjd0FZzRtDrQFZd</td>\n      <td>A Little More</td>\n      <td>Alessia Cara</td>\n      <td>https://open.spotify.com/track/7tue2Wemjd0FZzR...</td>\n      <td>0.795</td>\n      <td>0.429</td>\n      <td>144720</td>\n      <td>0.211</td>\n      <td>0</td>\n      <td>0.0</td>\n      <td>4</td>\n      <td>0.196</td>\n      <td>-11.665</td>\n      <td>1</td>\n      <td>0</td>\n      <td>0.0360</td>\n      <td>94.710</td>\n      <td>0.228</td>\n      <td>2021</td>\n    </tr>\n    <tr>\n      <th>174387</th>\n      <td>1gcyHQpBQ1lfXGdhZmWrHP</td>\n      <td>champagne problems</td>\n      <td>Taylor Swift</td>\n      <td>https://open.spotify.com/track/1gcyHQpBQ1lfXGd...</td>\n      <td>0.920</td>\n      <td>0.462</td>\n      <td>244000</td>\n      <td>0.240</td>\n      <td>1</td>\n      <td>0.0</td>\n      <td>0</td>\n      <td>0.113</td>\n      <td>-12.077</td>\n      <td>1</td>\n      <td>69</td>\n      <td>0.0377</td>\n      <td>171.319</td>\n      <td>0.320</td>\n      <td>2021</td>\n    </tr>\n  </tbody>\n</table>\n</div>"
     },
     "metadata": {},
     "execution_count": 94
    }
   ],
   "source": [
    "test = wrangle_data(data)\n",
    "test.tail()"
   ]
  },
  {
   "cell_type": "code",
   "execution_count": 65,
   "metadata": {},
   "outputs": [],
   "source": [
    "target = ['id', 'name', 'artists', 'url']\n",
    "X = test.drop(columns=target)\n",
    "y = test[target]"
   ]
  },
  {
   "cell_type": "code",
   "execution_count": 70,
   "metadata": {},
   "outputs": [],
   "source": [
    "from sklearn.model_selection import train_test_split\n",
    "\n",
    "X_train, X_val, y_train, y_val = train_test_split(X, y, test_size=.20, random_state=42) "
   ]
  },
  {
   "cell_type": "code",
   "execution_count": 77,
   "metadata": {},
   "outputs": [],
   "source": [
    "assert int(len(X)*.8) == len(X_train), 'check test set'\n",
    "assert len(X)-int(len(X)*.8) == len(X_val), 'check validation set'\n",
    "assert int(len(X)*.8) == len(y_train), 'check test set'\n",
    "assert len(X)-int(len(X)*.8) == len(y_val), 'check validation set'"
   ]
  },
  {
   "cell_type": "code",
   "execution_count": 79,
   "metadata": {},
   "outputs": [
    {
     "output_type": "execute_result",
     "data": {
      "text/plain": [
       "   acousticness  danceability  duration_ms  energy  explicit  \\\n",
       "0      0.991000         0.598       168333   0.224         0   \n",
       "1      0.643000         0.852       150200   0.517         0   \n",
       "2      0.993000         0.647       163827   0.186         0   \n",
       "3      0.000173         0.730       422087   0.798         0   \n",
       "4      0.295000         0.704       165224   0.707         1   \n",
       "\n",
       "   instrumentalness  key  liveness  loudness  mode  popularity  speechiness  \\\n",
       "0          0.000522    5    0.3790   -12.628     0          12       0.0936   \n",
       "1          0.026400    5    0.0809    -7.261     0           7       0.0534   \n",
       "2          0.000018    0    0.5190   -12.098     1           4       0.1740   \n",
       "3          0.801000    2    0.1280    -7.311     1          17       0.0425   \n",
       "4          0.000246   10    0.4020    -6.036     0           2       0.0768   \n",
       "\n",
       "     tempo  valence  year  \n",
       "0  149.976   0.6340  1920  \n",
       "1   86.889   0.9500  1920  \n",
       "2   97.600   0.6890  1920  \n",
       "3  127.997   0.0422  1920  \n",
       "4  122.076   0.2990  1920  "
      ],
      "text/html": "<div>\n<style scoped>\n    .dataframe tbody tr th:only-of-type {\n        vertical-align: middle;\n    }\n\n    .dataframe tbody tr th {\n        vertical-align: top;\n    }\n\n    .dataframe thead th {\n        text-align: right;\n    }\n</style>\n<table border=\"1\" class=\"dataframe\">\n  <thead>\n    <tr style=\"text-align: right;\">\n      <th></th>\n      <th>acousticness</th>\n      <th>danceability</th>\n      <th>duration_ms</th>\n      <th>energy</th>\n      <th>explicit</th>\n      <th>instrumentalness</th>\n      <th>key</th>\n      <th>liveness</th>\n      <th>loudness</th>\n      <th>mode</th>\n      <th>popularity</th>\n      <th>speechiness</th>\n      <th>tempo</th>\n      <th>valence</th>\n      <th>year</th>\n    </tr>\n  </thead>\n  <tbody>\n    <tr>\n      <th>0</th>\n      <td>0.991000</td>\n      <td>0.598</td>\n      <td>168333</td>\n      <td>0.224</td>\n      <td>0</td>\n      <td>0.000522</td>\n      <td>5</td>\n      <td>0.3790</td>\n      <td>-12.628</td>\n      <td>0</td>\n      <td>12</td>\n      <td>0.0936</td>\n      <td>149.976</td>\n      <td>0.6340</td>\n      <td>1920</td>\n    </tr>\n    <tr>\n      <th>1</th>\n      <td>0.643000</td>\n      <td>0.852</td>\n      <td>150200</td>\n      <td>0.517</td>\n      <td>0</td>\n      <td>0.026400</td>\n      <td>5</td>\n      <td>0.0809</td>\n      <td>-7.261</td>\n      <td>0</td>\n      <td>7</td>\n      <td>0.0534</td>\n      <td>86.889</td>\n      <td>0.9500</td>\n      <td>1920</td>\n    </tr>\n    <tr>\n      <th>2</th>\n      <td>0.993000</td>\n      <td>0.647</td>\n      <td>163827</td>\n      <td>0.186</td>\n      <td>0</td>\n      <td>0.000018</td>\n      <td>0</td>\n      <td>0.5190</td>\n      <td>-12.098</td>\n      <td>1</td>\n      <td>4</td>\n      <td>0.1740</td>\n      <td>97.600</td>\n      <td>0.6890</td>\n      <td>1920</td>\n    </tr>\n    <tr>\n      <th>3</th>\n      <td>0.000173</td>\n      <td>0.730</td>\n      <td>422087</td>\n      <td>0.798</td>\n      <td>0</td>\n      <td>0.801000</td>\n      <td>2</td>\n      <td>0.1280</td>\n      <td>-7.311</td>\n      <td>1</td>\n      <td>17</td>\n      <td>0.0425</td>\n      <td>127.997</td>\n      <td>0.0422</td>\n      <td>1920</td>\n    </tr>\n    <tr>\n      <th>4</th>\n      <td>0.295000</td>\n      <td>0.704</td>\n      <td>165224</td>\n      <td>0.707</td>\n      <td>1</td>\n      <td>0.000246</td>\n      <td>10</td>\n      <td>0.4020</td>\n      <td>-6.036</td>\n      <td>0</td>\n      <td>2</td>\n      <td>0.0768</td>\n      <td>122.076</td>\n      <td>0.2990</td>\n      <td>1920</td>\n    </tr>\n  </tbody>\n</table>\n</div>"
     },
     "metadata": {},
     "execution_count": 79
    }
   ],
   "source": [
    "# vectorize \n",
    "X.head()"
   ]
  },
  {
   "cell_type": "code",
   "execution_count": 83,
   "metadata": {},
   "outputs": [
    {
     "output_type": "execute_result",
     "data": {
      "text/plain": [
       "NearestNeighbors()"
      ]
     },
     "metadata": {},
     "execution_count": 83
    }
   ],
   "source": [
    "from sklearn.neighbors import NearestNeighbors\n",
    "\n",
    "model = NearestNeighbors()\n",
    "model.fit(X_train, y_train)"
   ]
  },
  {
   "cell_type": "code",
   "execution_count": 91,
   "metadata": {},
   "outputs": [
    {
     "output_type": "execute_result",
     "data": {
      "text/plain": [
       "(array([array([], dtype=float64), array([], dtype=float64),\n",
       "        array([], dtype=float64), ..., array([0.]),\n",
       "        array([], dtype=float64), array([], dtype=float64)], dtype=object),\n",
       " array([array([], dtype=int64), array([], dtype=int64),\n",
       "        array([], dtype=int64), ..., array([61913]),\n",
       "        array([], dtype=int64), array([], dtype=int64)], dtype=object))"
      ]
     },
     "metadata": {},
     "execution_count": 91
    }
   ],
   "source": [
    "model.radius_neighbors(X_val)"
   ]
  },
  {
   "cell_type": "code",
   "execution_count": 98,
   "metadata": {},
   "outputs": [],
   "source": [
    "nn = NearestNeighbors(algorithm='brute', leaf_size =12, n_neighbors=15, n_jobs=-1)\n",
    "nn.fit(X)\n",
    "\n",
    "# sample a song(index) from X to use as our query point \n",
    "input = 0\n",
    "input_index=input\n",
    "\n",
    "# vectorize \n",
    "data_vect = [X.iloc[input_index].values]\n",
    "neigh_dist, neigh_indices = nn.kneighbors(data_vect)\n",
    "indexs = neigh_indices.flat[0:12].tolist()\n",
    "\n",
    "output = y.iloc[indexs]"
   ]
  },
  {
   "cell_type": "code",
   "execution_count": 99,
   "metadata": {},
   "outputs": [
    {
     "output_type": "execute_result",
     "data": {
      "text/plain": [
       "                            id                                          name  \\\n",
       "0       0cS0A1fUEUd1EW3FcF8AEI                      Keep A Song In Your Soul   \n",
       "127187  74vda4pNQoNuh2DBxlssnb                      Şu Kızı Bana Vermiyorlar   \n",
       "59054   56HmximYQWTjpghFQOGqRy                 De a Traicion - Remasterizado   \n",
       "1696    0824IiWIQJCw9GP8RKjU6o                                 De a Traicion   \n",
       "60455   4BspizHHJl4dY03BD8FooZ                            O mia bella Napoli   \n",
       "21271   2vebVasXSfdp7SAOzuaXvQ  Sos Un Hombre - Instrumental (Remasterizado)   \n",
       "1314    0NfIlp9ZOS0wHLqtpExbti             ¿Cuando Volverás? - Remasterizado   \n",
       "94593   4LWO3ULGwCgcCW8ypKt7zN                              Consejo de Amigo   \n",
       "6426    5hU6H5pEbwOa0fLJKLyMwJ           It Could Happen To You - Remastered   \n",
       "63      1QI5WTvnpNV5vJJQU4DPX1                   El Baccarat - Remasterizado   \n",
       "146838  0kFfwKkBZsPicSqo5ILITE                   I Wish I Could Speak French   \n",
       "42862   4qH84WXNZKhCPBcIg3fICW                                  Insan Kya Jo   \n",
       "\n",
       "                                 artists  \\\n",
       "0                            Mamie Smith   \n",
       "127187               Makbule Enver Hanım   \n",
       "59054           Francisco Canaro, Charlo   \n",
       "1696            Francisco Canaro, Charlo   \n",
       "60455                         Titi Botez   \n",
       "21271                   Francisco Canaro   \n",
       "1314    Francisco Canaro, Agustín Irusta   \n",
       "94593                       Pedro Maffia   \n",
       "6426                       Nat King Cole   \n",
       "63                      Francisco Canaro   \n",
       "146838             Alvin & The Chipmunks   \n",
       "42862                 Veena, Uma Shankar   \n",
       "\n",
       "                                                      url  \n",
       "0       https://open.spotify.com/track/0cS0A1fUEUd1EW3...  \n",
       "127187  https://open.spotify.com/track/74vda4pNQoNuh2D...  \n",
       "59054   https://open.spotify.com/track/56HmximYQWTjpgh...  \n",
       "1696    https://open.spotify.com/track/0824IiWIQJCw9GP...  \n",
       "60455   https://open.spotify.com/track/4BspizHHJl4dY03...  \n",
       "21271   https://open.spotify.com/track/2vebVasXSfdp7SA...  \n",
       "1314    https://open.spotify.com/track/0NfIlp9ZOS0wHLq...  \n",
       "94593   https://open.spotify.com/track/4LWO3ULGwCgcCW8...  \n",
       "6426    https://open.spotify.com/track/5hU6H5pEbwOa0fL...  \n",
       "63      https://open.spotify.com/track/1QI5WTvnpNV5vJJ...  \n",
       "146838  https://open.spotify.com/track/0kFfwKkBZsPicSq...  \n",
       "42862   https://open.spotify.com/track/4qH84WXNZKhCPBc...  "
      ],
      "text/html": "<div>\n<style scoped>\n    .dataframe tbody tr th:only-of-type {\n        vertical-align: middle;\n    }\n\n    .dataframe tbody tr th {\n        vertical-align: top;\n    }\n\n    .dataframe thead th {\n        text-align: right;\n    }\n</style>\n<table border=\"1\" class=\"dataframe\">\n  <thead>\n    <tr style=\"text-align: right;\">\n      <th></th>\n      <th>id</th>\n      <th>name</th>\n      <th>artists</th>\n      <th>url</th>\n    </tr>\n  </thead>\n  <tbody>\n    <tr>\n      <th>0</th>\n      <td>0cS0A1fUEUd1EW3FcF8AEI</td>\n      <td>Keep A Song In Your Soul</td>\n      <td>Mamie Smith</td>\n      <td>https://open.spotify.com/track/0cS0A1fUEUd1EW3...</td>\n    </tr>\n    <tr>\n      <th>127187</th>\n      <td>74vda4pNQoNuh2DBxlssnb</td>\n      <td>Şu Kızı Bana Vermiyorlar</td>\n      <td>Makbule Enver Hanım</td>\n      <td>https://open.spotify.com/track/74vda4pNQoNuh2D...</td>\n    </tr>\n    <tr>\n      <th>59054</th>\n      <td>56HmximYQWTjpghFQOGqRy</td>\n      <td>De a Traicion - Remasterizado</td>\n      <td>Francisco Canaro, Charlo</td>\n      <td>https://open.spotify.com/track/56HmximYQWTjpgh...</td>\n    </tr>\n    <tr>\n      <th>1696</th>\n      <td>0824IiWIQJCw9GP8RKjU6o</td>\n      <td>De a Traicion</td>\n      <td>Francisco Canaro, Charlo</td>\n      <td>https://open.spotify.com/track/0824IiWIQJCw9GP...</td>\n    </tr>\n    <tr>\n      <th>60455</th>\n      <td>4BspizHHJl4dY03BD8FooZ</td>\n      <td>O mia bella Napoli</td>\n      <td>Titi Botez</td>\n      <td>https://open.spotify.com/track/4BspizHHJl4dY03...</td>\n    </tr>\n    <tr>\n      <th>21271</th>\n      <td>2vebVasXSfdp7SAOzuaXvQ</td>\n      <td>Sos Un Hombre - Instrumental (Remasterizado)</td>\n      <td>Francisco Canaro</td>\n      <td>https://open.spotify.com/track/2vebVasXSfdp7SA...</td>\n    </tr>\n    <tr>\n      <th>1314</th>\n      <td>0NfIlp9ZOS0wHLqtpExbti</td>\n      <td>¿Cuando Volverás? - Remasterizado</td>\n      <td>Francisco Canaro, Agustín Irusta</td>\n      <td>https://open.spotify.com/track/0NfIlp9ZOS0wHLq...</td>\n    </tr>\n    <tr>\n      <th>94593</th>\n      <td>4LWO3ULGwCgcCW8ypKt7zN</td>\n      <td>Consejo de Amigo</td>\n      <td>Pedro Maffia</td>\n      <td>https://open.spotify.com/track/4LWO3ULGwCgcCW8...</td>\n    </tr>\n    <tr>\n      <th>6426</th>\n      <td>5hU6H5pEbwOa0fLJKLyMwJ</td>\n      <td>It Could Happen To You - Remastered</td>\n      <td>Nat King Cole</td>\n      <td>https://open.spotify.com/track/5hU6H5pEbwOa0fL...</td>\n    </tr>\n    <tr>\n      <th>63</th>\n      <td>1QI5WTvnpNV5vJJQU4DPX1</td>\n      <td>El Baccarat - Remasterizado</td>\n      <td>Francisco Canaro</td>\n      <td>https://open.spotify.com/track/1QI5WTvnpNV5vJJ...</td>\n    </tr>\n    <tr>\n      <th>146838</th>\n      <td>0kFfwKkBZsPicSqo5ILITE</td>\n      <td>I Wish I Could Speak French</td>\n      <td>Alvin &amp; The Chipmunks</td>\n      <td>https://open.spotify.com/track/0kFfwKkBZsPicSq...</td>\n    </tr>\n    <tr>\n      <th>42862</th>\n      <td>4qH84WXNZKhCPBcIg3fICW</td>\n      <td>Insan Kya Jo</td>\n      <td>Veena, Uma Shankar</td>\n      <td>https://open.spotify.com/track/4qH84WXNZKhCPBc...</td>\n    </tr>\n  </tbody>\n</table>\n</div>"
     },
     "metadata": {},
     "execution_count": 99
    }
   ],
   "source": [
    "output[0]"
   ]
  },
  {
   "cell_type": "code",
   "execution_count": null,
   "metadata": {},
   "outputs": [],
   "source": []
  }
 ]
}